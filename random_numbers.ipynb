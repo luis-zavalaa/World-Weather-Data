{
 "cells": [
  {
   "cell_type": "code",
   "execution_count": 1,
   "id": "933dfa4a-eb61-4490-90e2-f113607d39a1",
   "metadata": {},
   "outputs": [],
   "source": [
    "import numpy as np"
   ]
  },
  {
   "cell_type": "code",
   "execution_count": 2,
   "id": "a028aee4-40ea-45b3-b479-08e4862c2454",
   "metadata": {},
   "outputs": [
    {
     "data": {
      "text/plain": [
       "[-65.88113542024593,\n",
       " -60.49762445225582,\n",
       " 49.866486848626515,\n",
       " -37.6291646618704,\n",
       " 56.32154086180213,\n",
       " 7.134395380247144,\n",
       " 2.0042409622078505,\n",
       " 30.12603442013847,\n",
       " 0.8374414046471549,\n",
       " 21.511601756622262]"
      ]
     },
     "execution_count": 2,
     "metadata": {},
     "output_type": "execute_result"
    }
   ],
   "source": [
    "x = 1\n",
    "latitudes = []\n",
    "while x < 11:\n",
    "    random_lat = np.random.randint(-90, 89) + np.random.random()\n",
    "    latitudes.append(random_lat)\n",
    "    x += 1\n",
    "    \n",
    "latitudes"
   ]
  },
  {
   "cell_type": "code",
   "execution_count": 7,
   "id": "58156306-0a6c-4727-9d32-694d373fc315",
   "metadata": {},
   "outputs": [
    {
     "data": {
      "text/plain": [
       "array([ 45.64061162,  81.27621961, -39.6101908 ,  46.52034395,\n",
       "        -6.20291048])"
      ]
     },
     "execution_count": 7,
     "metadata": {},
     "output_type": "execute_result"
    }
   ],
   "source": [
    "np.random.uniform(low=-90, high=90, size = 5)"
   ]
  },
  {
   "cell_type": "code",
   "execution_count": null,
   "id": "1b9aa71b-9ebe-4991-bfd9-29e6a842ff00",
   "metadata": {},
   "outputs": [],
   "source": [
    "import timeit"
   ]
  },
  {
   "cell_type": "code",
   "execution_count": 8,
   "id": "9e7f37fe-802c-44f9-a973-38160e3cd7f6",
   "metadata": {},
   "outputs": [
    {
     "name": "stdout",
     "output_type": "stream",
     "text": [
      "12.8 µs ± 179 ns per loop (mean ± std. dev. of 7 runs, 100000 loops each)\n"
     ]
    }
   ],
   "source": [
    "%timeit np.random.uniform(-90.000, 90.000, size=1500)"
   ]
  },
  {
   "cell_type": "code",
   "execution_count": 13,
   "id": "3adf0ebf-9de5-4783-aba4-79d1b5580054",
   "metadata": {},
   "outputs": [
    {
     "name": "stdout",
     "output_type": "stream",
     "text": [
      "4.1 ms ± 53.3 µs per loop (mean ± std. dev. of 7 runs, 100 loops each)\n"
     ]
    }
   ],
   "source": [
    "def latitudes(size):\n",
    "    latitudes = []\n",
    "    x = 0\n",
    "    while x < (size):\n",
    "        random_lat = np.random.randint(-90, 90) + np.random.random()\n",
    "        latitudes.append(random_lat)\n",
    "        x += 1\n",
    "    return latitudes\n",
    "# Call the function with 1500.\n",
    "%timeit latitudes(1500)"
   ]
  },
  {
   "cell_type": "code",
   "execution_count": null,
   "id": "26ffb439-10da-46ac-b7fd-5b87f184df4e",
   "metadata": {},
   "outputs": [],
   "source": []
  },
  {
   "cell_type": "code",
   "execution_count": null,
   "id": "5e0d9abf-9761-4c8c-9601-0ae6d229b5e3",
   "metadata": {},
   "outputs": [],
   "source": []
  }
 ],
 "metadata": {
  "kernelspec": {
   "display_name": "Python [conda env:PyData2] *",
   "language": "python",
   "name": "conda-env-PyData2-py"
  },
  "language_info": {
   "codemirror_mode": {
    "name": "ipython",
    "version": 3
   },
   "file_extension": ".py",
   "mimetype": "text/x-python",
   "name": "python",
   "nbconvert_exporter": "python",
   "pygments_lexer": "ipython3",
   "version": "3.7.13"
  }
 },
 "nbformat": 4,
 "nbformat_minor": 5
}
